{
 "cells": [
  {
   "cell_type": "code",
   "execution_count": 1,
   "id": "5c6a75fd-c6f8-4775-a5e2-9efa7287f98d",
   "metadata": {},
   "outputs": [],
   "source": [
    "# Import Modules\n",
    "import pandas as pd\n",
    "import os\n",
    "import json\n",
    "import requests\n",
    "from dotenv import load_dotenv\n",
    "import matplotlib.pyplot as plt\n",
    "from pathlib import Path"
   ]
  },
  {
   "cell_type": "code",
   "execution_count": 2,
   "id": "dc2b70a9-386a-463d-81d9-16020802d0cc",
   "metadata": {},
   "outputs": [
    {
     "data": {
      "text/plain": [
       "True"
      ]
     },
     "execution_count": 2,
     "metadata": {},
     "output_type": "execute_result"
    }
   ],
   "source": [
    "# Load .env environment variables into the notebook\n",
    "env_path = Path(\"rapidapi.env\")\n",
    "load_dotenv(env_path)"
   ]
  },
  {
   "cell_type": "code",
   "execution_count": 3,
   "id": "6cc43a8e-9993-42a0-89ad-782d5d2eccac",
   "metadata": {},
   "outputs": [
    {
     "data": {
      "text/plain": [
       "str"
      ]
     },
     "execution_count": 3,
     "metadata": {},
     "output_type": "execute_result"
    }
   ],
   "source": [
    "# Get the API key from the environment variable and store as Python variable\n",
    "rapidapi_api_key = os.getenv(\"RAPIDAPI_API_KEY\")\n",
    "type(rapidapi_api_key)"
   ]
  },
  {
   "cell_type": "code",
   "execution_count": 8,
   "id": "1716fb85-2a51-4427-a934-405c34187c95",
   "metadata": {},
   "outputs": [
    {
     "data": {
      "text/plain": [
       "dict"
      ]
     },
     "execution_count": 8,
     "metadata": {},
     "output_type": "execute_result"
    }
   ],
   "source": [
    "\n",
    "url = \"https://zillow56.p.rapidapi.com/search\"\n",
    "\n",
    "querystring = {\"location\":\"takoma park, md\",\"isForRent\":\"false\",\"isSingleFamily\":\"true\",\"isMultiFamily\":\"false\",\"isApartment\":\"false\",\"isCondo\":\"false\",\"isManufactured\":\"false\",\"isLotLand\":\"false\",\"doz\":\"36m\"}\n",
    "\n",
    "headers = {\n",
    "\t\"X-RapidAPI-Host\": \"zillow56.p.rapidapi.com\",\n",
    "\t\"X-RapidAPI-Key\": rapidapi_api_key\n",
    "}\n",
    "\n",
    "# Get and store response\n",
    "response = requests.request(\"GET\", url, headers=headers, params=querystring).json()\n",
    "\n",
    "# The response is of type dictionary\n",
    "type(response)"
   ]
  },
  {
   "cell_type": "code",
   "execution_count": null,
   "id": "08af7bf4-ac12-4761-9545-1950bc2062cf",
   "metadata": {},
   "outputs": [],
   "source": []
  }
 ],
 "metadata": {
  "kernelspec": {
   "display_name": "Python 3 (ipykernel)",
   "language": "python",
   "name": "python3"
  },
  "language_info": {
   "codemirror_mode": {
    "name": "ipython",
    "version": 3
   },
   "file_extension": ".py",
   "mimetype": "text/x-python",
   "name": "python",
   "nbconvert_exporter": "python",
   "pygments_lexer": "ipython3",
   "version": "3.9.12"
  }
 },
 "nbformat": 4,
 "nbformat_minor": 5
}
