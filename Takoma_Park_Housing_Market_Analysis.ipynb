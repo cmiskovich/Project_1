{
 "cells": [
  {
   "cell_type": "code",
   "execution_count": 1,
   "id": "5c6a75fd-c6f8-4775-a5e2-9efa7287f98d",
   "metadata": {},
   "outputs": [],
   "source": [
    "# Import Modules\n",
    "import pandas as pd\n",
    "import os\n",
    "import json\n",
    "import requests\n",
    "from dotenv import load_dotenv\n",
    "import matplotlib.pyplot as plt\n",
    "from pathlib import Path"
   ]
  },
  {
   "cell_type": "code",
   "execution_count": 2,
   "id": "dc2b70a9-386a-463d-81d9-16020802d0cc",
   "metadata": {},
   "outputs": [
    {
     "data": {
      "text/plain": [
       "True"
      ]
     },
     "execution_count": 2,
     "metadata": {},
     "output_type": "execute_result"
    }
   ],
   "source": [
    "# Load .env environment variables into the notebook\n",
    "env_path = Path(\"rapidapi.env\")\n",
    "load_dotenv(env_path)"
   ]
  },
  {
   "cell_type": "code",
   "execution_count": 3,
   "id": "6cc43a8e-9993-42a0-89ad-782d5d2eccac",
   "metadata": {},
   "outputs": [
    {
     "data": {
      "text/plain": [
       "str"
      ]
     },
     "execution_count": 3,
     "metadata": {},
     "output_type": "execute_result"
    }
   ],
   "source": [
    "# Get the API key from the environment variable and store as Python variable\n",
    "rapidapi_api_key = os.getenv(\"RAPIDAPI_API_KEY\")\n",
    "type(rapidapi_api_key)"
   ]
  },
  {
   "cell_type": "code",
   "execution_count": 6,
   "id": "1716fb85-2a51-4427-a934-405c34187c95",
   "metadata": {},
   "outputs": [
    {
     "name": "stdout",
     "output_type": "stream",
     "text": [
      "{\"results\":[{\"bathrooms\":3.0,\"bedrooms\":3.0,\"city\":\"Takoma Park\",\"country\":\"USA\",\"currency\":\"USD\",\"daysOnZillow\":-1,\"homeStatus\":\"FOR_SALE\",\"homeStatusForHDP\":\"FOR_SALE\",\"homeType\":\"TOWNHOUSE\",\"isFeatured\":false,\"isNonOwnerOccupied\":true,\"isPreforeclosureAuction\":false,\"isPremierBuilder\":false,\"isUnmappable\":false,\"isZillowOwned\":false,\"latitude\":38.99631,\"listing_sub_type\":{\"is_FSBA\":true},\"livingArea\":1620.0,\"longitude\":-76.994705,\"lotAreaUnit\":\"sqft\",\"lotAreaValue\":1306.8,\"price\":380000.0,\"priceForHDP\":380000.0,\"rentZestimate\":2669,\"shouldHighlight\":false,\"state\":\"MD\",\"streetAddress\":\"36 Seek Ct\",\"taxAssessedValue\":270400.0,\"zestimate\":395300,\"zipcode\":\"20912\",\"zpid\":37332850},{\"bathrooms\":3.0,\"bedrooms\":6.0,\"city\":\"Takoma Park\",\"country\":\"USA\",\"currency\":\"USD\",\"daysOnZillow\":-1,\"homeStatus\":\"FOR_SALE\",\"homeStatusForHDP\":\"FOR_SALE\",\"homeType\":\"SINGLE_FAMILY\",\"isFeatured\":false,\"isNonOwnerOccupied\":true,\"isPreforeclosureAuction\":false,\"isPremierBuilder\":false,\"isUnmappable\":false,\"isZillowOwned\":false,\"latitude\":38.9706,\"listing_sub_type\":{\"is_FSBA\":true,\"is_openHouse\":true},\"livingArea\":2158.0,\"longitude\":-77.00561,\"lotAreaUnit\":\"sqft\",\"lotAreaValue\":6098.4,\"openHouse\":\"Sat. 11am-1pm\",\"open_house_info\":{\"open_house_showing\":[{\"open_house_end\":1654372800000,\"open_house_start\":1654365600000},{\"open_house_end\":1654470000000,\"open_house_start\":1654462800000}]},\"price\":825000.0,\"priceForHDP\":825000.0,\"shouldHighlight\":false,\"state\":\"MD\",\"streetAddress\":\"6510 Allegheny Ave\",\"taxAssessedValue\":570200.0,\"zipcode\":\"20912\",\"zpid\":37340862},{\"bathrooms\":3.0,\"bedrooms\":3.0,\"city\":\"Takoma Park\",\"country\":\"USA\",\"currency\":\"USD\",\"daysOnZillow\":-1,\"homeStatus\":\"FOR_SALE\",\"homeStatusForHDP\":\"FOR_SALE\",\"homeType\":\"SINGLE_FAMILY\",\"isFeatured\":false,\"isNonOwnerOccupied\":true,\"isPreforeclosureAuction\":false,\"isPremierBuilder\":false,\"isUnmappable\":false,\"isZillowOwned\":false,\"latitude\":38.989338,\"listing_sub_type\":{\"is_FSBA\":true,\"is_openHouse\":true},\"livingArea\":2621.0,\"longitude\":-76.99689,\"lotAreaUnit\":\"sqft\",\"lotAreaValue\":7405.2,\"openHouse\":\"Fri. 5-7pm\",\"open_house_info\":{\"open_house_showing\":[{\"open_house_end\":1654308000000,\"open_house_start\":1654300800000},{\"open_house_end\":1654383600000,\"open_house_start\":1654376400000},{\"open_house_end\":1654470000000,\"open_house_start\":1654462800000}]},\"price\":750000.0,\"priceForHDP\":750000.0,\"shouldHighlight\":false,\"state\":\"MD\",\"streetAddress\":\"8024 Glenside Dr\",\"taxAssessedValue\":551900.0,\"zipcode\":\"20912\",\"zpid\":37312172},{\"bathrooms\":2.0,\"bedrooms\":4.0,\"city\":\"Takoma Park\",\"country\":\"USA\",\"currency\":\"USD\",\"daysOnZillow\":-1,\"homeStatus\":\"FOR_SALE\",\"homeStatusForHDP\":\"FOR_SALE\",\"homeType\":\"SINGLE_FAMILY\",\"isFeatured\":false,\"isNonOwnerOccupied\":true,\"isPreforeclosureAuction\":false,\"isPremierBuilder\":false,\"isUnmappable\":false,\"isZillowOwned\":false,\"latitude\":38.977077,\"listing_sub_type\":{\"is_FSBA\":true},\"livingArea\":2012.0,\"longitude\":-77.0061,\"lotAreaUnit\":\"acres\",\"lotAreaValue\":0.31,\"price\":885000.0,\"priceForHDP\":885000.0,\"rentZestimate\":3349,\"shouldHighlight\":false,\"state\":\"MD\",\"streetAddress\":\"7125 Poplar Ave\",\"taxAssessedValue\":603300.0,\"zestimate\":927500,\"zipcode\":\"20912\",\"zpid\":37285458},{\"bathrooms\":3.0,\"bedrooms\":3.0,\"city\":\"Takoma Park\",\"country\":\"USA\",\"currency\":\"USD\",\"datePriceChanged\":1653980400000,\"daysOnZillow\":-1,\"homeStatus\":\"FOR_SALE\",\"homeStatusForHDP\":\"FOR_SALE\",\"homeType\":\"SINGLE_FAMILY\",\"isFeatured\":false,\"isNonOwnerOccupied\":true,\"isPreforeclosureAuction\":false,\"isPremierBuilder\":false,\"isUnmappable\":false,\"isZillowOwned\":false,\"latitude\":38.972515,\"listing_sub_type\":{\"is_FSBA\":true},\"livingArea\":1536.0,\"longitude\":-77.00275,\"lotAreaUnit\":\"sqft\",\"lotAreaValue\":7840.8,\"price\":799000.0,\"priceChange\":-50000,\"priceForHDP\":799000.0,\"priceReduction\":\"$50,000 (May 31)\",\"rentZestimate\":2813,\"shouldHighlight\":false,\"state\":\"MD\",\"streetAddress\":\"6711 Poplar Ave\",\"taxAssessedValue\":536300.0,\"zestimate\":871600,\"zipcode\":\"20912\",\"zpid\":37341084},{\"bathrooms\":3.0,\"bedrooms\":3.0,\"city\":\"Takoma Park\",\"country\":\"USA\",\"currency\":\"USD\",\"daysOnZillow\":-1,\"homeStatus\":\"FOR_SALE\",\"homeStatusForHDP\":\"FOR_SALE\",\"homeType\":\"SINGLE_FAMILY\",\"isFeatured\":false,\"isNonOwnerOccupied\":true,\"isPreforeclosureAuction\":false,\"isPremierBuilder\":false,\"isUnmappable\":false,\"isZillowOwned\":false,\"latitude\":38.975185,\"listing_sub_type\":{\"is_FSBA\":true},\"livingArea\":1850.0,\"longitude\":-76.99859,\"lotAreaUnit\":\"sqft\",\"lotAreaValue\":8276.4,\"price\":745000.0,\"priceForHDP\":745000.0,\"rentZestimate\":3078,\"shouldHighlight\":false,\"state\":\"MD\",\"streetAddress\":\"600 Elm Ave\",\"taxAssessedValue\":513500.0,\"zestimate\":769300,\"zipcode\":\"20912\",\"zpid\":37341500},{\"bathrooms\":2.0,\"bedrooms\":3.0,\"city\":\"Takoma Park\",\"country\":\"USA\",\"currency\":\"USD\",\"datePriceChanged\":1653030000000,\"daysOnZillow\":-1,\"homeStatus\":\"FOR_SALE\",\"homeStatusForHDP\":\"FOR_SALE\",\"homeType\":\"SINGLE_FAMILY\",\"isFeatured\":false,\"isNonOwnerOccupied\":true,\"isPreforeclosureAuction\":false,\"isPremierBuilder\":false,\"isUnmappable\":false,\"isZillowOwned\":false,\"latitude\":38.99605,\"listing_sub_type\":{\"is_FSBA\":true},\"livingArea\":1040.0,\"longitude\":-76.99395,\"lotAreaUnit\":\"sqft\",\"lotAreaValue\":5662.8,\"price\":519000.0,\"priceChange\":-30000,\"priceForHDP\":519000.0,\"priceReduction\":\"$30,000 (May 20)\",\"rentZestimate\":2343,\"shouldHighlight\":false,\"state\":\"MD\",\"streetAddress\":\"810 Bayfield St\",\"taxAssessedValue\":288300.0,\"zipcode\":\"20912\",\"zpid\":37293318},{\"bathrooms\":4.0,\"bedrooms\":7.0,\"city\":\"Takoma Park\",\"country\":\"USA\",\"currency\":\"USD\",\"datePriceChanged\":1653548400000,\"daysOnZillow\":-1,\"homeStatus\":\"FOR_SALE\",\"homeStatusForHDP\":\"FOR_SALE\",\"homeType\":\"SINGLE_FAMILY\",\"isFeatured\":false,\"isNonOwnerOccupied\":true,\"isPreforeclosureAuction\":false,\"isPremierBuilder\":false,\"isUnmappable\":false,\"isZillowOwned\":false,\"latitude\":38.985058,\"listing_sub_type\":{\"is_FSBA\":true},\"livingArea\":3766.0,\"longitude\":-76.99756,\"lotAreaUnit\":\"sqft\",\"lotAreaValue\":9147.6,\"price\":645000.0,\"priceChange\":-25000,\"priceForHDP\":645000.0,\"priceReduction\":\"$25,000 (May 26)\",\"rentZestimate\":3200,\"shouldHighlight\":false,\"state\":\"MD\",\"streetAddress\":\"7709 Carroll Ave\",\"taxAssessedValue\":618500.0,\"zestimate\":666700,\"zipcode\":\"20912\",\"zpid\":37285505},{\"bathrooms\":4.0,\"bedrooms\":11.0,\"city\":\"Takoma Park\",\"country\":\"USA\",\"currency\":\"USD\",\"datePriceChanged\":1651993200000,\"daysOnZillow\":-1,\"homeStatus\":\"FOR_SALE\",\"homeStatusForHDP\":\"FOR_SALE\",\"homeType\":\"SINGLE_FAMILY\",\"isFeatured\":false,\"isNonOwnerOccupied\":true,\"isPreforeclosureAuction\":false,\"isPremierBuilder\":false,\"isUnmappable\":false,\"isZillowOwned\":false,\"latitude\":38.99241,\"listing_sub_type\":{\"is_FSBA\":true},\"livingArea\":2380.0,\"longitude\":-77.00381,\"lotAreaUnit\":\"sqft\",\"lotAreaValue\":6534.0,\"price\":674990.0,\"priceChange\":-50000,\"priceForHDP\":674990.0,\"priceReduction\":\"$50,000 (May 8)\",\"shouldHighlight\":false,\"state\":\"MD\",\"streetAddress\":\"700 Hudson Ave\",\"zipcode\":\"20912\",\"zpid\":2064289832},{\"bathrooms\":2.0,\"bedrooms\":4.0,\"city\":\"Takoma Park\",\"country\":\"USA\",\"currency\":\"USD\",\"datePriceChanged\":1652425200000,\"daysOnZillow\":-1,\"homeStatus\":\"FOR_SALE\",\"homeStatusForHDP\":\"FOR_SALE\",\"homeType\":\"SINGLE_FAMILY\",\"isFeatured\":false,\"isNonOwnerOccupied\":true,\"isPreforeclosureAuction\":false,\"isPremierBuilder\":false,\"isUnmappable\":false,\"isZillowOwned\":false,\"latitude\":38.980026,\"listing_sub_type\":{\"is_FSBA\":true},\"livingArea\":1283.0,\"longitude\":-77.00062,\"lotAreaUnit\":\"sqft\",\"lotAreaValue\":7840.8,\"price\":649900.0,\"priceChange\":-25100,\"priceForHDP\":649900.0,\"priceReduction\":\"$25,100 (May 13)\",\"rentZestimate\":2900,\"shouldHighlight\":false,\"state\":\"MD\",\"streetAddress\":\"7411 Jackson Ave\",\"taxAssessedValue\":415100.0,\"zestimate\":667500,\"zipcode\":\"20912\",\"zpid\":37284625},{\"bathrooms\":5.0,\"bedrooms\":5.0,\"city\":\"Takoma Park\",\"country\":\"USA\",\"currency\":\"USD\",\"datePriceChanged\":1645516800000,\"daysOnZillow\":-1,\"homeStatus\":\"FOR_SALE\",\"homeStatusForHDP\":\"FOR_SALE\",\"homeType\":\"SINGLE_FAMILY\",\"isFeatured\":false,\"isNonOwnerOccupied\":true,\"isPreforeclosureAuction\":false,\"isPremierBuilder\":false,\"isUnmappable\":false,\"isZillowOwned\":false,\"latitude\":38.97662,\"listing_sub_type\":{\"is_FSBA\":true},\"livingArea\":3120.0,\"longitude\":-76.99884,\"lotAreaUnit\":\"sqft\",\"lotAreaValue\":4791.6,\"price\":1150000.0,\"priceChange\":-50000,\"priceForHDP\":1150000.0,\"priceReduction\":\"\",\"rentZestimate\":2900,\"shouldHighlight\":false,\"state\":\"MD\",\"streetAddress\":\"6924 Prince Georges Ave\",\"taxAssessedValue\":381900.0,\"zestimate\":1153000,\"zipcode\":\"20912\",\"zpid\":37340369},{\"bathrooms\":3.0,\"bedrooms\":4.0,\"city\":\"Takoma Park\",\"country\":\"USA\",\"currency\":\"USD\",\"daysOnZillow\":-1,\"homeStatus\":\"FOR_SALE\",\"homeStatusForHDP\":\"FOR_SALE\",\"homeType\":\"SINGLE_FAMILY\",\"isFeatured\":false,\"isNonOwnerOccupied\":true,\"isPreforeclosureAuction\":false,\"isPremierBuilder\":false,\"isUnmappable\":false,\"isZillowOwned\":false,\"latitude\":38.9774,\"listing_sub_type\":{\"is_newHome\":true},\"livingArea\":2500.0,\"longitude\":-76.99818,\"lotAreaUnit\":\"acres\",\"lotAreaValue\":0.35,\"newConstructionType\":\"BUILDER_SPEC\",\"price\":990000.0,\"priceForHDP\":990000.0,\"rentZestimate\":3711,\"shouldHighlight\":false,\"state\":\"MD\",\"streetAddress\":\"436 Ethan Allen Ave\",\"taxAssessedValue\":261200.0,\"zestimate\":990100,\"zipcode\":\"20912\",\"zpid\":331604780},{\"bathrooms\":3.0,\"bedrooms\":4.0,\"city\":\"Takoma Park\",\"country\":\"USA\",\"currency\":\"USD\",\"daysOnZillow\":-1,\"homeStatus\":\"FOR_SALE\",\"homeStatusForHDP\":\"FOR_SALE\",\"homeType\":\"SINGLE_FAMILY\",\"isFeatured\":false,\"isNonOwnerOccupied\":true,\"isPreforeclosureAuction\":false,\"isPremierBuilder\":false,\"isUnmappable\":false,\"isZillowOwned\":false,\"latitude\":38.97739,\"listing_sub_type\":{\"is_newHome\":true},\"livingArea\":2500.0,\"longitude\":-76.99845,\"lotAreaUnit\":\"acres\",\"lotAreaValue\":0.5,\"newConstructionType\":\"BUILDER_SPEC\",\"price\":990000.0,\"priceForHDP\":990000.0,\"rentZestimate\":3699,\"shouldHighlight\":false,\"state\":\"MD\",\"streetAddress\":\"432 Ethan Allen Ave\",\"taxAssessedValue\":293700.0,\"zestimate\":990200,\"zipcode\":\"20912\",\"zpid\":37340892},{\"bathrooms\":3.0,\"bedrooms\":4.0,\"city\":\"Takoma Park\",\"country\":\"USA\",\"currency\":\"USD\",\"daysOnZillow\":-1,\"homeStatus\":\"FOR_SALE\",\"homeStatusForHDP\":\"FOR_SALE\",\"homeType\":\"SINGLE_FAMILY\",\"isFeatured\":false,\"isNonOwnerOccupied\":true,\"isPreforeclosureAuction\":false,\"isPremierBuilder\":false,\"isUnmappable\":false,\"isZillowOwned\":false,\"latitude\":38.9773,\"listing_sub_type\":{\"is_newHome\":true},\"livingArea\":2500.0,\"longitude\":-76.99824,\"lotAreaUnit\":\"acres\",\"lotAreaValue\":0.5,\"newConstructionType\":\"BUILDER_SPEC\",\"price\":990000.0,\"priceForHDP\":990000.0,\"rentZestimate\":2900,\"shouldHighlight\":false,\"state\":\"MD\",\"streetAddress\":\"434 Ethan Allen Ave\",\"taxAssessedValue\":726600.0,\"zestimate\":994100,\"zipcode\":\"20912\",\"zpid\":37340894}],\"resultsPerPage\":40,\"totalPages\":1,\"totalResultCount\":14}\n",
      "\n"
     ]
    }
   ],
   "source": [
    "\n",
    "url = \"https://zillow56.p.rapidapi.com/search\"\n",
    "\n",
    "querystring = {\"location\":\"takoma park, md\",\"isForRent\":\"false\",\"isSingleFamily\":\"true\",\"isMultiFamily\":\"false\",\"isApartment\":\"false\",\"isCondo\":\"false\",\"isManufactured\":\"false\",\"isLotLand\":\"false\",\"doz\":\"36m\"}\n",
    "\n",
    "headers = {\n",
    "\t\"X-RapidAPI-Host\": \"zillow56.p.rapidapi.com\",\n",
    "\t\"X-RapidAPI-Key\": rapidapi_api_key\n",
    "}\n",
    "\n",
    "response = requests.request(\"GET\", url, headers=headers, params=querystring)\n",
    "\n",
    "print(response.text)\n"
   ]
  },
  {
   "cell_type": "code",
   "execution_count": null,
   "id": "08af7bf4-ac12-4761-9545-1950bc2062cf",
   "metadata": {},
   "outputs": [],
   "source": []
  }
 ],
 "metadata": {
  "kernelspec": {
   "display_name": "Python 3 (ipykernel)",
   "language": "python",
   "name": "python3"
  },
  "language_info": {
   "codemirror_mode": {
    "name": "ipython",
    "version": 3
   },
   "file_extension": ".py",
   "mimetype": "text/x-python",
   "name": "python",
   "nbconvert_exporter": "python",
   "pygments_lexer": "ipython3",
   "version": "3.9.12"
  }
 },
 "nbformat": 4,
 "nbformat_minor": 5
}
